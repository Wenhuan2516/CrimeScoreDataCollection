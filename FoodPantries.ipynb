{
 "cells": [
  {
   "cell_type": "code",
   "execution_count": 1,
   "id": "a642b078-c34b-4e4a-94c0-4057d84c2ac1",
   "metadata": {},
   "outputs": [],
   "source": [
    "from pandas import DataFrame"
   ]
  },
  {
   "cell_type": "code",
   "execution_count": 2,
   "id": "ec4430cf-fe82-4207-a539-a0e853676ab0",
   "metadata": {},
   "outputs": [],
   "source": [
    "import requests\n",
    "from bs4 import BeautifulSoup\n",
    "from bs4 import Tag\n",
    "import re\n",
    "import csv\n",
    "import json"
   ]
  },
  {
   "cell_type": "code",
   "execution_count": 3,
   "id": "2c7c019f-954f-4704-8c2c-d522fa017c10",
   "metadata": {},
   "outputs": [],
   "source": [
    "response = requests.get('http://www.foodpantries.org/')\n",
    "soup = BeautifulSoup(response.content,'html.parser')\n",
    "states = soup.find('div',{'class':'multicolumn'}).find_all('li')"
   ]
  },
  {
   "cell_type": "code",
   "execution_count": 4,
   "id": "93f9156f-718f-4fec-8af3-dd58deae7dfd",
   "metadata": {},
   "outputs": [
    {
     "data": {
      "text/plain": [
       "[<li><a href=\"https://www.foodpantries.org/st/alaska\" title=\"Alaska Food Pantries\">Alaska</a> <em>(118)</em></li>,\n",
       " <li><a href=\"https://www.foodpantries.org/st/alabama\" title=\"Alabama Food Pantries\">Alabama</a> <em>(390)</em></li>,\n",
       " <li><a href=\"https://www.foodpantries.org/st/arkansas\" title=\"Arkansas Food Pantries\">Arkansas</a> <em>(523)</em></li>,\n",
       " <li><a href=\"https://www.foodpantries.org/st/arizona\" title=\"Arizona Food Pantries\">Arizona</a> <em>(287)</em></li>,\n",
       " <li><a href=\"https://www.foodpantries.org/st/california\" title=\"California Food Pantries\">California</a> <em>(712)</em></li>]"
      ]
     },
     "execution_count": 4,
     "metadata": {},
     "output_type": "execute_result"
    }
   ],
   "source": [
    "states[:5]"
   ]
  },
  {
   "cell_type": "code",
   "execution_count": 5,
   "id": "9d20630b-02e5-4312-bb21-bca6e2f40c94",
   "metadata": {},
   "outputs": [],
   "source": [
    "def generate_soup(url):\n",
    "    response = requests.get(url)\n",
    "    html = response.text\n",
    "\n",
    "    return BeautifulSoup(html, \"html.parser\")"
   ]
  },
  {
   "cell_type": "code",
   "execution_count": 64,
   "id": "79d53544-e916-484f-9019-058ccde134b7",
   "metadata": {},
   "outputs": [],
   "source": [
    "STR_TO_REPLACE = ['\\r', '\\n', '\\t', '<b>', '<br>', '</b>', '@', '\\\\',\\\n",
    "                        'â', '\\x80', '\\x99s', '\\xa0', '[read more]', '@type', '@context', '\\\\\\\\']\n",
    "urls = []\n",
    "for state in states:\n",
    "    state_url = state.find('a')['href']\n",
    "    state_name = state.find('a').text\n",
    "    state_count = str(state.find('em').text)\n",
    "    response = requests.get(state_url)\n",
    "    html=response.text\n",
    "    urls.append(state_url)\n",
    "    soup = BeautifulSoup(html, \"html.parser\")"
   ]
  },
  {
   "cell_type": "code",
   "execution_count": 6,
   "id": "49363f78-d485-4dbe-a980-4bb3f32bce06",
   "metadata": {},
   "outputs": [],
   "source": [
    "STR_TO_REPLACE = ['\\r', '\\n', '\\t', '<b>', '<br>', '</b>', '@', '\\\\',\\\n",
    "                        'â', '\\x80', '\\x99s', '\\xa0', '[read more]', '@type', '@context', '\\\\\\\\']"
   ]
  },
  {
   "cell_type": "code",
   "execution_count": 13,
   "id": "3de4fa80-30c0-4727-a140-9025a043212e",
   "metadata": {},
   "outputs": [
    {
     "data": {
      "text/plain": [
       "['https://www.foodpantries.org/st/alaska',\n",
       " 'https://www.foodpantries.org/st/alabama',\n",
       " 'https://www.foodpantries.org/st/arkansas',\n",
       " 'https://www.foodpantries.org/st/arizona',\n",
       " 'https://www.foodpantries.org/st/california',\n",
       " 'https://www.foodpantries.org/st/colorado',\n",
       " 'https://www.foodpantries.org/st/connecticut',\n",
       " 'https://www.foodpantries.org/st/district_of_columbia',\n",
       " 'https://www.foodpantries.org/st/delaware',\n",
       " 'https://www.foodpantries.org/st/florida',\n",
       " 'https://www.foodpantries.org/st/georgia',\n",
       " 'https://www.foodpantries.org/st/hawaii',\n",
       " 'https://www.foodpantries.org/st/iowa',\n",
       " 'https://www.foodpantries.org/st/idaho',\n",
       " 'https://www.foodpantries.org/st/illinois',\n",
       " 'https://www.foodpantries.org/st/indiana',\n",
       " 'https://www.foodpantries.org/st/kansas',\n",
       " 'https://www.foodpantries.org/st/kentucky',\n",
       " 'https://www.foodpantries.org/st/louisiana',\n",
       " 'https://www.foodpantries.org/st/massachusetts',\n",
       " 'https://www.foodpantries.org/st/maryland',\n",
       " 'https://www.foodpantries.org/st/maine',\n",
       " 'https://www.foodpantries.org/st/michigan',\n",
       " 'https://www.foodpantries.org/st/minnesota',\n",
       " 'https://www.foodpantries.org/st/missouri',\n",
       " 'https://www.foodpantries.org/st/mississippi',\n",
       " 'https://www.foodpantries.org/st/montana',\n",
       " 'https://www.foodpantries.org/st/north_carolina',\n",
       " 'https://www.foodpantries.org/st/north_dakota',\n",
       " 'https://www.foodpantries.org/st/nebraska',\n",
       " 'https://www.foodpantries.org/st/new_hampshire',\n",
       " 'https://www.foodpantries.org/st/new_jersey',\n",
       " 'https://www.foodpantries.org/st/new_mexico',\n",
       " 'https://www.foodpantries.org/st/nevada',\n",
       " 'https://www.foodpantries.org/st/new_york',\n",
       " 'https://www.foodpantries.org/st/ohio',\n",
       " 'https://www.foodpantries.org/st/oklahoma',\n",
       " 'https://www.foodpantries.org/st/oregon',\n",
       " 'https://www.foodpantries.org/st/pennsylvania',\n",
       " 'https://www.foodpantries.org/st/rhode_island',\n",
       " 'https://www.foodpantries.org/st/south_carolina',\n",
       " 'https://www.foodpantries.org/st/south_dakota',\n",
       " 'https://www.foodpantries.org/st/tennessee',\n",
       " 'https://www.foodpantries.org/st/texas',\n",
       " 'https://www.foodpantries.org/st/utah',\n",
       " 'https://www.foodpantries.org/st/virginia',\n",
       " 'https://www.foodpantries.org/st/vermont',\n",
       " 'https://www.foodpantries.org/st/washington',\n",
       " 'https://www.foodpantries.org/st/wisconsin',\n",
       " 'https://www.foodpantries.org/st/west_virginia',\n",
       " 'https://www.foodpantries.org/st/wyoming']"
      ]
     },
     "execution_count": 13,
     "metadata": {},
     "output_type": "execute_result"
    }
   ],
   "source": [
    "urls"
   ]
  },
  {
   "cell_type": "code",
   "execution_count": 14,
   "id": "c77503ff-1021-4958-aa55-f52a2ea7039d",
   "metadata": {},
   "outputs": [],
   "source": [
    "allURL = []\n",
    "for START_URL in urls:\n",
    "    soup = generate_soup(START_URL)\n",
    "    table = soup.find('table', {'class': 'table table-striped'})\n",
    "    rows = table.findAll('tr')\n",
    "    for tr in rows:\n",
    "        cols = tr.findAll('td')\n",
    "        #print(cols)\n",
    "        for element in cols:\n",
    "            link1 = element.find('a').get('href')\n",
    "            allURL.append(link1)"
   ]
  },
  {
   "cell_type": "code",
   "execution_count": 77,
   "id": "217b6c15-cba7-4711-8d93-cd79793b7ad4",
   "metadata": {},
   "outputs": [
    {
     "data": {
      "text/plain": [
       "['https://www.foodpantries.org/ci/ak-anchor_point',\n",
       " 'https://www.foodpantries.org/ci/ak-anchorage',\n",
       " 'https://www.foodpantries.org/ci/ak-aniak',\n",
       " 'https://www.foodpantries.org/ci/ak-bethel',\n",
       " 'https://www.foodpantries.org/ci/ak-big_lake',\n",
       " 'https://www.foodpantries.org/ci/ak-coffman_cove',\n",
       " 'https://www.foodpantries.org/ci/ak-dillingham',\n",
       " 'https://www.foodpantries.org/ci/ak-douglas',\n",
       " 'https://www.foodpantries.org/ci/ak-eagle_river',\n",
       " 'https://www.foodpantries.org/ci/ak-fairbanks',\n",
       " 'https://www.foodpantries.org/ci/ak-fort_yukon',\n",
       " 'https://www.foodpantries.org/ci/ak-haines',\n",
       " 'https://www.foodpantries.org/ci/ak-homer']"
      ]
     },
     "execution_count": 77,
     "metadata": {},
     "output_type": "execute_result"
    }
   ],
   "source": [
    "allURL[:13]"
   ]
  },
  {
   "cell_type": "code",
   "execution_count": 18,
   "id": "5c1b92f2-0285-4e6c-b696-a1c7101b5ec4",
   "metadata": {},
   "outputs": [
    {
     "data": {
      "text/plain": [
       "[{'context': 'https://schema.org',\n",
       "  'type': 'LocalBusiness',\n",
       "  'address': {'type': 'PostalAddress',\n",
       "   'streetAddress': '1121 E 10th Ave',\n",
       "   'addressLocality': 'Anchorage',\n",
       "   'addressRegion': 'AK',\n",
       "   'postalCode': '99501'},\n",
       "  'name': 'Mobile Food Pantry - Fairview Recreation Center',\n",
       "  'image': 'https://www.foodpantries.org/gallery/1773_1647432713.jpg',\n",
       "  'description': 'SERVICE DESCRIPTION: Provides a mobile food pantry to supplement existing food pantries throughout the service area.INTAKE: Served on a first-come-first-serve basis. Bring boxes or bags to take the food home in. Distribution sites and times change monthly. See the website for the most up to date information.ELIGIBILITY: No restrictions.Hours:The 2nd and 3rd Sat of the month2:00pm (registration at 1pm)For more information, please call. ',\n",
       "  'telephone': '(907) 343-4130'},\n",
       " {'context': 'https://schema.org',\n",
       "  'type': 'LocalBusiness',\n",
       "  'address': {'type': 'PostalAddress',\n",
       "   'streetAddress': '3600 Macinnes Street',\n",
       "   'addressLocality': 'Anchorage',\n",
       "   'addressRegion': 'AK',\n",
       "   'postalCode': '99508'},\n",
       "  'name': 'Mobile Food Pantry  First Christian Methodist Episcopal Church',\n",
       "  'image': 'https://www.foodpantries.org/gallery/1774_ak_mobile_food_pantry_first_christian_methodist_episcopal_church_xvp.jpg',\n",
       "  'description': 'SERVICE DESCRIPTION: Provides a mobile food pantry to supplement existing food pantries throughout the service area.FEES: NoneINTAKE: Served on a first-come-first-serve basis. Bring boxes or bags to take the food home in. Distribution sites and times change monthly. See the website for the most up to date information.ELIGIBILITY: No restrictions.Hours:1st and 4th Sat of the month 2:00 pm (registration at 1:00 pm).Volunteers:Are always neededF',\n",
       "  'telephone': '(907) 563-7044'},\n",
       " {'context': 'https://schema.org',\n",
       "  'type': 'LocalBusiness',\n",
       "  'address': {'type': 'PostalAddress',\n",
       "   'streetAddress': '4025 W 88th Ave',\n",
       "   'addressLocality': 'Anchorage',\n",
       "   'addressRegion': 'AK',\n",
       "   'postalCode': '99502'},\n",
       "  'name': 'Mobile Food Pantry Jewel Lake Church Of The Nazarene',\n",
       "  'image': 'https://www.foodpantries.org/gallery/1775_ak_mobile_food_pantry_jewel_lake_church_of_the_nazarene_mgt.jpg',\n",
       "  'description': 'Provides a mobile food pantry to supplement existing food pantries throughout the service area.INTAKE: Served on a first-come first-serve basis. Bring boxes or bags to take the food home in. Distribution sites and times change monthly. See website for most up to date information.ELIGIBILITY: No restrictions.Hours: Saturday 10:00am (registration at 9am)For more information, please call. ',\n",
       "  'telephone': '(907) 243-2344'},\n",
       " {'context': 'https://schema.org',\n",
       "  'type': 'LocalBusiness',\n",
       "  'address': {'type': 'PostalAddress',\n",
       "   'streetAddress': '1847 W Northern Lights Blvd',\n",
       "   'addressLocality': 'Anchorage',\n",
       "   'addressRegion': 'AK',\n",
       "   'postalCode': '99517'},\n",
       "  'name': 'Mobile Food Pantry  Lutheran Church Of Hope',\n",
       "  'image': 'https://www.foodpantries.org/gallery/no_photo_2.jpg',\n",
       "  'description': 'SERVICE DESCRIPTION:Provides a mobile food pantry to supplement existing food pantries throughout the service area.FEES:None.INTAKE:Served on a first-come first-serve basis. Bring boxes or bags to take the food home in. Distribution sites and times change monthly. See website for most up to date information.ELIGIBILITY:No restrictions.SERVICES:    * Food PantriesSITE HOURS:Tue 5pm (registration starts at 4pm).',\n",
       "  'telephone': '907-272-3663'},\n",
       " {'context': 'https://schema.org',\n",
       "  'type': 'LocalBusiness',\n",
       "  'address': {'type': 'PostalAddress',\n",
       "   'streetAddress': '2121 Spar Ave.',\n",
       "   'addressLocality': 'Anchorage',\n",
       "   'addressRegion': 'AK',\n",
       "   'postalCode': '99501'},\n",
       "  'name': 'Food Bank of Alaska',\n",
       "  'image': 'https://www.foodpantries.org/gallery/1777_Ak-mobile_food_pantry_mountain_view_boys_girls_club_mhn.jpg',\n",
       "  'description': 'SERVICES: Food PantriesFEES:None.INTAKE:Served  on a first-come first-serve basis.  Bring boxes or bags to take the  food home in. Distribution sites and times change monthly. See website  for most up to date information.ELIGIBILITY:No restrictions.HOURS:Monday - Saturday8:00am -',\n",
       "  'telephone': '(907) 272-3663'}]"
      ]
     },
     "execution_count": 18,
     "metadata": {},
     "output_type": "execute_result"
    }
   ],
   "source": [
    "pantries = []\n",
    "start_soup = generate_soup('https://www.foodpantries.org/ci/ak-anchorage')\n",
    "pantries_html = start_soup.find_all('script', type='application/ld+json')\n",
    "for ph in pantries_html:\n",
    "    pantry_text = ph.text\n",
    "    for s in STR_TO_REPLACE:\n",
    "        pantry_text = pantry_text.replace(s, '')\n",
    "    pantry = json.loads(pantry_text, strict=False)\n",
    "    if pantry['type'] == 'LocalBusiness':\n",
    "        pantries.append(pantry)\n",
    "pantries[:5]"
   ]
  },
  {
   "cell_type": "code",
   "execution_count": 43,
   "id": "0e1a54d2-5356-40f5-ad90-27d950893047",
   "metadata": {},
   "outputs": [],
   "source": [
    "import json\n",
    "import re\n",
    "\n",
    "class LazyDecoder(json.JSONDecoder):\n",
    "    def decode(self, s, **kwargs):\n",
    "        regex_replacements = [\n",
    "            (re.compile(r'([^\\\\])\\\\([^\\\\])'), r'\\1\\\\\\\\\\2'),\n",
    "            (re.compile(r',(\\s*])'), r'\\1'),\n",
    "        ]\n",
    "        for regex, replacement in regex_replacements:\n",
    "            s = regex.sub(replacement, s)\n",
    "        return super().decode(s, **kwargs)"
   ]
  },
  {
   "cell_type": "code",
   "execution_count": 79,
   "id": "389ddfaf-8ae2-45ff-b122-023d34ee7331",
   "metadata": {},
   "outputs": [],
   "source": [
    "def generate_dict_per_pantry(soup):\n",
    "    pantries = []\n",
    "    pantries_html = soup.find_all('script', type='application/ld+json')\n",
    "    for ph in pantries_html:\n",
    "        pantry_text = ph.text\n",
    "        for s in STR_TO_REPLACE:\n",
    "            pantry_text = pantry_text.replace(s, '')\n",
    "            pantry = json.loads(pantry_text, strict = False)\n",
    "            if \"type\" in pantry.keys():\n",
    "                if pantry['type'] == 'LocalBusiness':\n",
    "                    pantries.append(pantry)\n",
    "\n",
    "    return pantries"
   ]
  },
  {
   "cell_type": "code",
   "execution_count": 80,
   "id": "2914c953-f5c7-45a7-81b4-811cafe2675a",
   "metadata": {},
   "outputs": [
    {
     "ename": "JSONDecodeError",
     "evalue": "Invalid \\escape: line 12 column 35 (char 375)",
     "output_type": "error",
     "traceback": [
      "\u001b[0;31m---------------------------------------------------------------------------\u001b[0m",
      "\u001b[0;31mJSONDecodeError\u001b[0m                           Traceback (most recent call last)",
      "\u001b[0;32m/tmp/ipykernel_58491/2105330253.py\u001b[0m in \u001b[0;36m<module>\u001b[0;34m\u001b[0m\n\u001b[1;32m      2\u001b[0m \u001b[0;32mfor\u001b[0m \u001b[0mSTART_URL_FP\u001b[0m \u001b[0;32min\u001b[0m \u001b[0mallURL\u001b[0m\u001b[0;34m:\u001b[0m\u001b[0;34m\u001b[0m\u001b[0;34m\u001b[0m\u001b[0m\n\u001b[1;32m      3\u001b[0m     \u001b[0mstart_soup\u001b[0m \u001b[0;34m=\u001b[0m \u001b[0mgenerate_soup\u001b[0m\u001b[0;34m(\u001b[0m\u001b[0mSTART_URL_FP\u001b[0m\u001b[0;34m)\u001b[0m\u001b[0;34m\u001b[0m\u001b[0;34m\u001b[0m\u001b[0m\n\u001b[0;32m----> 4\u001b[0;31m     \u001b[0mpantries\u001b[0m \u001b[0;34m=\u001b[0m \u001b[0mgenerate_dict_per_pantry\u001b[0m\u001b[0;34m(\u001b[0m\u001b[0mstart_soup\u001b[0m\u001b[0;34m)\u001b[0m\u001b[0;34m\u001b[0m\u001b[0;34m\u001b[0m\u001b[0m\n\u001b[0m\u001b[1;32m      5\u001b[0m     \u001b[0mallPantries\u001b[0m\u001b[0;34m.\u001b[0m\u001b[0mappend\u001b[0m\u001b[0;34m(\u001b[0m\u001b[0mpantries\u001b[0m\u001b[0;34m)\u001b[0m\u001b[0;34m\u001b[0m\u001b[0;34m\u001b[0m\u001b[0m\n",
      "\u001b[0;32m/tmp/ipykernel_58491/1318143698.py\u001b[0m in \u001b[0;36mgenerate_dict_per_pantry\u001b[0;34m(soup)\u001b[0m\n\u001b[1;32m      6\u001b[0m         \u001b[0;32mfor\u001b[0m \u001b[0ms\u001b[0m \u001b[0;32min\u001b[0m \u001b[0mSTR_TO_REPLACE\u001b[0m\u001b[0;34m:\u001b[0m\u001b[0;34m\u001b[0m\u001b[0;34m\u001b[0m\u001b[0m\n\u001b[1;32m      7\u001b[0m             \u001b[0mpantry_text\u001b[0m \u001b[0;34m=\u001b[0m \u001b[0mpantry_text\u001b[0m\u001b[0;34m.\u001b[0m\u001b[0mreplace\u001b[0m\u001b[0;34m(\u001b[0m\u001b[0ms\u001b[0m\u001b[0;34m,\u001b[0m \u001b[0;34m''\u001b[0m\u001b[0;34m)\u001b[0m\u001b[0;34m\u001b[0m\u001b[0;34m\u001b[0m\u001b[0m\n\u001b[0;32m----> 8\u001b[0;31m             \u001b[0mpantry\u001b[0m \u001b[0;34m=\u001b[0m \u001b[0mjson\u001b[0m\u001b[0;34m.\u001b[0m\u001b[0mloads\u001b[0m\u001b[0;34m(\u001b[0m\u001b[0mpantry_text\u001b[0m\u001b[0;34m,\u001b[0m \u001b[0mstrict\u001b[0m \u001b[0;34m=\u001b[0m \u001b[0;32mFalse\u001b[0m\u001b[0;34m)\u001b[0m\u001b[0;34m\u001b[0m\u001b[0;34m\u001b[0m\u001b[0m\n\u001b[0m\u001b[1;32m      9\u001b[0m             \u001b[0;32mif\u001b[0m \u001b[0;34m\"type\"\u001b[0m \u001b[0;32min\u001b[0m \u001b[0mpantry\u001b[0m\u001b[0;34m.\u001b[0m\u001b[0mkeys\u001b[0m\u001b[0;34m(\u001b[0m\u001b[0;34m)\u001b[0m\u001b[0;34m:\u001b[0m\u001b[0;34m\u001b[0m\u001b[0;34m\u001b[0m\u001b[0m\n\u001b[1;32m     10\u001b[0m                 \u001b[0;32mif\u001b[0m \u001b[0mpantry\u001b[0m\u001b[0;34m[\u001b[0m\u001b[0;34m'type'\u001b[0m\u001b[0;34m]\u001b[0m \u001b[0;34m==\u001b[0m \u001b[0;34m'LocalBusiness'\u001b[0m\u001b[0;34m:\u001b[0m\u001b[0;34m\u001b[0m\u001b[0;34m\u001b[0m\u001b[0m\n",
      "\u001b[0;32m~/.conda/envs/myenv/lib/python3.7/json/__init__.py\u001b[0m in \u001b[0;36mloads\u001b[0;34m(s, encoding, cls, object_hook, parse_float, parse_int, parse_constant, object_pairs_hook, **kw)\u001b[0m\n\u001b[1;32m    359\u001b[0m     \u001b[0;32mif\u001b[0m \u001b[0mparse_constant\u001b[0m \u001b[0;32mis\u001b[0m \u001b[0;32mnot\u001b[0m \u001b[0;32mNone\u001b[0m\u001b[0;34m:\u001b[0m\u001b[0;34m\u001b[0m\u001b[0;34m\u001b[0m\u001b[0m\n\u001b[1;32m    360\u001b[0m         \u001b[0mkw\u001b[0m\u001b[0;34m[\u001b[0m\u001b[0;34m'parse_constant'\u001b[0m\u001b[0;34m]\u001b[0m \u001b[0;34m=\u001b[0m \u001b[0mparse_constant\u001b[0m\u001b[0;34m\u001b[0m\u001b[0;34m\u001b[0m\u001b[0m\n\u001b[0;32m--> 361\u001b[0;31m     \u001b[0;32mreturn\u001b[0m \u001b[0mcls\u001b[0m\u001b[0;34m(\u001b[0m\u001b[0;34m**\u001b[0m\u001b[0mkw\u001b[0m\u001b[0;34m)\u001b[0m\u001b[0;34m.\u001b[0m\u001b[0mdecode\u001b[0m\u001b[0;34m(\u001b[0m\u001b[0ms\u001b[0m\u001b[0;34m)\u001b[0m\u001b[0;34m\u001b[0m\u001b[0;34m\u001b[0m\u001b[0m\n\u001b[0m",
      "\u001b[0;32m~/.conda/envs/myenv/lib/python3.7/json/decoder.py\u001b[0m in \u001b[0;36mdecode\u001b[0;34m(self, s, _w)\u001b[0m\n\u001b[1;32m    335\u001b[0m \u001b[0;34m\u001b[0m\u001b[0m\n\u001b[1;32m    336\u001b[0m         \"\"\"\n\u001b[0;32m--> 337\u001b[0;31m         \u001b[0mobj\u001b[0m\u001b[0;34m,\u001b[0m \u001b[0mend\u001b[0m \u001b[0;34m=\u001b[0m \u001b[0mself\u001b[0m\u001b[0;34m.\u001b[0m\u001b[0mraw_decode\u001b[0m\u001b[0;34m(\u001b[0m\u001b[0ms\u001b[0m\u001b[0;34m,\u001b[0m \u001b[0midx\u001b[0m\u001b[0;34m=\u001b[0m\u001b[0m_w\u001b[0m\u001b[0;34m(\u001b[0m\u001b[0ms\u001b[0m\u001b[0;34m,\u001b[0m \u001b[0;36m0\u001b[0m\u001b[0;34m)\u001b[0m\u001b[0;34m.\u001b[0m\u001b[0mend\u001b[0m\u001b[0;34m(\u001b[0m\u001b[0;34m)\u001b[0m\u001b[0;34m)\u001b[0m\u001b[0;34m\u001b[0m\u001b[0;34m\u001b[0m\u001b[0m\n\u001b[0m\u001b[1;32m    338\u001b[0m         \u001b[0mend\u001b[0m \u001b[0;34m=\u001b[0m \u001b[0m_w\u001b[0m\u001b[0;34m(\u001b[0m\u001b[0ms\u001b[0m\u001b[0;34m,\u001b[0m \u001b[0mend\u001b[0m\u001b[0;34m)\u001b[0m\u001b[0;34m.\u001b[0m\u001b[0mend\u001b[0m\u001b[0;34m(\u001b[0m\u001b[0;34m)\u001b[0m\u001b[0;34m\u001b[0m\u001b[0;34m\u001b[0m\u001b[0m\n\u001b[1;32m    339\u001b[0m         \u001b[0;32mif\u001b[0m \u001b[0mend\u001b[0m \u001b[0;34m!=\u001b[0m \u001b[0mlen\u001b[0m\u001b[0;34m(\u001b[0m\u001b[0ms\u001b[0m\u001b[0;34m)\u001b[0m\u001b[0;34m:\u001b[0m\u001b[0;34m\u001b[0m\u001b[0;34m\u001b[0m\u001b[0m\n",
      "\u001b[0;32m~/.conda/envs/myenv/lib/python3.7/json/decoder.py\u001b[0m in \u001b[0;36mraw_decode\u001b[0;34m(self, s, idx)\u001b[0m\n\u001b[1;32m    351\u001b[0m         \"\"\"\n\u001b[1;32m    352\u001b[0m         \u001b[0;32mtry\u001b[0m\u001b[0;34m:\u001b[0m\u001b[0;34m\u001b[0m\u001b[0;34m\u001b[0m\u001b[0m\n\u001b[0;32m--> 353\u001b[0;31m             \u001b[0mobj\u001b[0m\u001b[0;34m,\u001b[0m \u001b[0mend\u001b[0m \u001b[0;34m=\u001b[0m \u001b[0mself\u001b[0m\u001b[0;34m.\u001b[0m\u001b[0mscan_once\u001b[0m\u001b[0;34m(\u001b[0m\u001b[0ms\u001b[0m\u001b[0;34m,\u001b[0m \u001b[0midx\u001b[0m\u001b[0;34m)\u001b[0m\u001b[0;34m\u001b[0m\u001b[0;34m\u001b[0m\u001b[0m\n\u001b[0m\u001b[1;32m    354\u001b[0m         \u001b[0;32mexcept\u001b[0m \u001b[0mStopIteration\u001b[0m \u001b[0;32mas\u001b[0m \u001b[0merr\u001b[0m\u001b[0;34m:\u001b[0m\u001b[0;34m\u001b[0m\u001b[0;34m\u001b[0m\u001b[0m\n\u001b[1;32m    355\u001b[0m             \u001b[0;32mraise\u001b[0m \u001b[0mJSONDecodeError\u001b[0m\u001b[0;34m(\u001b[0m\u001b[0;34m\"Expecting value\"\u001b[0m\u001b[0;34m,\u001b[0m \u001b[0ms\u001b[0m\u001b[0;34m,\u001b[0m \u001b[0merr\u001b[0m\u001b[0;34m.\u001b[0m\u001b[0mvalue\u001b[0m\u001b[0;34m)\u001b[0m \u001b[0;32mfrom\u001b[0m \u001b[0;32mNone\u001b[0m\u001b[0;34m\u001b[0m\u001b[0;34m\u001b[0m\u001b[0m\n",
      "\u001b[0;31mJSONDecodeError\u001b[0m: Invalid \\escape: line 12 column 35 (char 375)"
     ]
    }
   ],
   "source": [
    "allPantries = []\n",
    "for START_URL_FP in allURL:\n",
    "    start_soup = generate_soup(START_URL_FP)\n",
    "    pantries = generate_dict_per_pantry(start_soup)\n",
    "    allPantries.append(pantries)"
   ]
  },
  {
   "cell_type": "code",
   "execution_count": 85,
   "id": "69772a7f-1f40-4e19-b640-27478353ff3c",
   "metadata": {},
   "outputs": [
    {
     "data": {
      "text/plain": [
       "[{'context': 'https://schema.org',\n",
       "  'type': 'LocalBusiness',\n",
       "  'address': {'type': 'PostalAddress',\n",
       "   'streetAddress': '73358 School Street',\n",
       "   'addressLocality': 'Anchor Point',\n",
       "   'addressRegion': 'AK',\n",
       "   'postalCode': '99556'},\n",
       "  'name': 'Anchor Point Food Pantry (APFP)',\n",
       "  'image': 'https://www.foodpantries.org/gallery/37163_anchor-point-food-pantry-apfp_efy.jpg',\n",
       "  'description': 'Hours: Mondays4:00pm to 6:00pm At Great Land Worship Center behind Chapman School.  A hot meal is serve.  We serve 25 - 40 families per week. For more information, please call. ',\n",
       "  'telephone': '(907) 756-3719'},\n",
       " {'context': 'https://schema.org',\n",
       "  'type': 'LocalBusiness',\n",
       "  'address': {'type': 'PostalAddress',\n",
       "   'streetAddress': '73358 School Street',\n",
       "   'addressLocality': 'Anchor Point',\n",
       "   'addressRegion': 'AK',\n",
       "   'postalCode': '99556'},\n",
       "  'name': 'Anchor Point Food Pantry (APFP)',\n",
       "  'image': 'https://www.foodpantries.org/gallery/37163_anchor-point-food-pantry-apfp_efy.jpg',\n",
       "  'description': 'Hours: Mondays4:00pm to 6:00pm At Great Land Worship Center behind Chapman School.  A hot meal is serve.  We serve 25 - 40 families per week. For more information, please call. ',\n",
       "  'telephone': '(907) 756-3719'},\n",
       " {'context': 'https://schema.org',\n",
       "  'type': 'LocalBusiness',\n",
       "  'address': {'type': 'PostalAddress',\n",
       "   'streetAddress': '73358 School Street',\n",
       "   'addressLocality': 'Anchor Point',\n",
       "   'addressRegion': 'AK',\n",
       "   'postalCode': '99556'},\n",
       "  'name': 'Anchor Point Food Pantry (APFP)',\n",
       "  'image': 'https://www.foodpantries.org/gallery/37163_anchor-point-food-pantry-apfp_efy.jpg',\n",
       "  'description': 'Hours: Mondays4:00pm to 6:00pm At Great Land Worship Center behind Chapman School.  A hot meal is serve.  We serve 25 - 40 families per week. For more information, please call. ',\n",
       "  'telephone': '(907) 756-3719'},\n",
       " {'context': 'https://schema.org',\n",
       "  'type': 'LocalBusiness',\n",
       "  'address': {'type': 'PostalAddress',\n",
       "   'streetAddress': '73358 School Street',\n",
       "   'addressLocality': 'Anchor Point',\n",
       "   'addressRegion': 'AK',\n",
       "   'postalCode': '99556'},\n",
       "  'name': 'Anchor Point Food Pantry (APFP)',\n",
       "  'image': 'https://www.foodpantries.org/gallery/37163_anchor-point-food-pantry-apfp_efy.jpg',\n",
       "  'description': 'Hours: Mondays4:00pm to 6:00pm At Great Land Worship Center behind Chapman School.  A hot meal is serve.  We serve 25 - 40 families per week. For more information, please call. ',\n",
       "  'telephone': '(907) 756-3719'},\n",
       " {'context': 'https://schema.org',\n",
       "  'type': 'LocalBusiness',\n",
       "  'address': {'type': 'PostalAddress',\n",
       "   'streetAddress': '73358 School Street',\n",
       "   'addressLocality': 'Anchor Point',\n",
       "   'addressRegion': 'AK',\n",
       "   'postalCode': '99556'},\n",
       "  'name': 'Anchor Point Food Pantry (APFP)',\n",
       "  'image': 'https://www.foodpantries.org/gallery/37163_anchor-point-food-pantry-apfp_efy.jpg',\n",
       "  'description': 'Hours: Mondays4:00pm to 6:00pm At Great Land Worship Center behind Chapman School.  A hot meal is serve.  We serve 25 - 40 families per week. For more information, please call. ',\n",
       "  'telephone': '(907) 756-3719'},\n",
       " {'context': 'https://schema.org',\n",
       "  'type': 'LocalBusiness',\n",
       "  'address': {'type': 'PostalAddress',\n",
       "   'streetAddress': '73358 School Street',\n",
       "   'addressLocality': 'Anchor Point',\n",
       "   'addressRegion': 'AK',\n",
       "   'postalCode': '99556'},\n",
       "  'name': 'Anchor Point Food Pantry (APFP)',\n",
       "  'image': 'https://www.foodpantries.org/gallery/37163_anchor-point-food-pantry-apfp_efy.jpg',\n",
       "  'description': 'Hours: Mondays4:00pm to 6:00pm At Great Land Worship Center behind Chapman School.  A hot meal is serve.  We serve 25 - 40 families per week. For more information, please call. ',\n",
       "  'telephone': '(907) 756-3719'},\n",
       " {'context': 'https://schema.org',\n",
       "  'type': 'LocalBusiness',\n",
       "  'address': {'type': 'PostalAddress',\n",
       "   'streetAddress': '73358 School Street',\n",
       "   'addressLocality': 'Anchor Point',\n",
       "   'addressRegion': 'AK',\n",
       "   'postalCode': '99556'},\n",
       "  'name': 'Anchor Point Food Pantry (APFP)',\n",
       "  'image': 'https://www.foodpantries.org/gallery/37163_anchor-point-food-pantry-apfp_efy.jpg',\n",
       "  'description': 'Hours: Mondays4:00pm to 6:00pm At Great Land Worship Center behind Chapman School.  A hot meal is serve.  We serve 25 - 40 families per week. For more information, please call. ',\n",
       "  'telephone': '(907) 756-3719'},\n",
       " {'context': 'https://schema.org',\n",
       "  'type': 'LocalBusiness',\n",
       "  'address': {'type': 'PostalAddress',\n",
       "   'streetAddress': '73358 School Street',\n",
       "   'addressLocality': 'Anchor Point',\n",
       "   'addressRegion': 'AK',\n",
       "   'postalCode': '99556'},\n",
       "  'name': 'Anchor Point Food Pantry (APFP)',\n",
       "  'image': 'https://www.foodpantries.org/gallery/37163_anchor-point-food-pantry-apfp_efy.jpg',\n",
       "  'description': 'Hours: Mondays4:00pm to 6:00pm At Great Land Worship Center behind Chapman School.  A hot meal is serve.  We serve 25 - 40 families per week. For more information, please call. ',\n",
       "  'telephone': '(907) 756-3719'},\n",
       " {'context': 'https://schema.org',\n",
       "  'type': 'LocalBusiness',\n",
       "  'address': {'type': 'PostalAddress',\n",
       "   'streetAddress': '73358 School Street',\n",
       "   'addressLocality': 'Anchor Point',\n",
       "   'addressRegion': 'AK',\n",
       "   'postalCode': '99556'},\n",
       "  'name': 'Anchor Point Food Pantry (APFP)',\n",
       "  'image': 'https://www.foodpantries.org/gallery/37163_anchor-point-food-pantry-apfp_efy.jpg',\n",
       "  'description': 'Hours: Mondays4:00pm to 6:00pm At Great Land Worship Center behind Chapman School.  A hot meal is serve.  We serve 25 - 40 families per week. For more information, please call. ',\n",
       "  'telephone': '(907) 756-3719'},\n",
       " {'context': 'https://schema.org',\n",
       "  'type': 'LocalBusiness',\n",
       "  'address': {'type': 'PostalAddress',\n",
       "   'streetAddress': '73358 School Street',\n",
       "   'addressLocality': 'Anchor Point',\n",
       "   'addressRegion': 'AK',\n",
       "   'postalCode': '99556'},\n",
       "  'name': 'Anchor Point Food Pantry (APFP)',\n",
       "  'image': 'https://www.foodpantries.org/gallery/37163_anchor-point-food-pantry-apfp_efy.jpg',\n",
       "  'description': 'Hours: Mondays4:00pm to 6:00pm At Great Land Worship Center behind Chapman School.  A hot meal is serve.  We serve 25 - 40 families per week. For more information, please call. ',\n",
       "  'telephone': '(907) 756-3719'}]"
      ]
     },
     "execution_count": 85,
     "metadata": {},
     "output_type": "execute_result"
    }
   ],
   "source": [
    "allPantries[0]"
   ]
  },
  {
   "cell_type": "code",
   "execution_count": 86,
   "id": "72565d52-f57e-40bb-9b61-4aa62d636d2d",
   "metadata": {},
   "outputs": [],
   "source": [
    "col_names = [\"StreetAddress\", \"City\", \"State\", \"ZipCode\", \"Name\", \"Telephone\"]"
   ]
  },
  {
   "cell_type": "code",
   "execution_count": 87,
   "id": "17800435-0ac4-4944-a607-cbe6f80ecbb9",
   "metadata": {},
   "outputs": [],
   "source": [
    "dic_list = []\n",
    "for element in allPantries:\n",
    "    for innerElement in element:\n",
    "        dict1 = {\"Name\": innerElement[\"name\"],\n",
    "                 \"StreetAddress\": innerElement[\"address\"][\"streetAddress\"],\n",
    "                 \"City\": innerElement[\"address\"][\"addressLocality\"],\n",
    "                 \"State\": innerElement[\"address\"][\"addressRegion\"],\n",
    "                 \"ZipCode\": innerElement[\"address\"][\"postalCode\"],\n",
    "                 \"Telephone\": innerElement[\"telephone\"]\n",
    "                }\n",
    "        dic_list.append(dict1)"
   ]
  },
  {
   "cell_type": "code",
   "execution_count": 88,
   "id": "a396cd02-f63a-411e-934b-8298ab1831ea",
   "metadata": {},
   "outputs": [
    {
     "data": {
      "text/plain": [
       "[{'Name': 'Anchor Point Food Pantry (APFP)',\n",
       "  'StreetAddress': '73358 School Street',\n",
       "  'City': 'Anchor Point',\n",
       "  'State': 'AK',\n",
       "  'ZipCode': '99556',\n",
       "  'Telephone': '(907) 756-3719'},\n",
       " {'Name': 'Anchor Point Food Pantry (APFP)',\n",
       "  'StreetAddress': '73358 School Street',\n",
       "  'City': 'Anchor Point',\n",
       "  'State': 'AK',\n",
       "  'ZipCode': '99556',\n",
       "  'Telephone': '(907) 756-3719'},\n",
       " {'Name': 'Anchor Point Food Pantry (APFP)',\n",
       "  'StreetAddress': '73358 School Street',\n",
       "  'City': 'Anchor Point',\n",
       "  'State': 'AK',\n",
       "  'ZipCode': '99556',\n",
       "  'Telephone': '(907) 756-3719'},\n",
       " {'Name': 'Anchor Point Food Pantry (APFP)',\n",
       "  'StreetAddress': '73358 School Street',\n",
       "  'City': 'Anchor Point',\n",
       "  'State': 'AK',\n",
       "  'ZipCode': '99556',\n",
       "  'Telephone': '(907) 756-3719'},\n",
       " {'Name': 'Anchor Point Food Pantry (APFP)',\n",
       "  'StreetAddress': '73358 School Street',\n",
       "  'City': 'Anchor Point',\n",
       "  'State': 'AK',\n",
       "  'ZipCode': '99556',\n",
       "  'Telephone': '(907) 756-3719'}]"
      ]
     },
     "execution_count": 88,
     "metadata": {},
     "output_type": "execute_result"
    }
   ],
   "source": [
    "dic_list[:5]"
   ]
  },
  {
   "cell_type": "code",
   "execution_count": 89,
   "id": "26d8c6a3-7c21-4592-9613-fcb7e7330f4a",
   "metadata": {},
   "outputs": [],
   "source": [
    "with open(\"FoodPantries.csv\", 'w') as csvFile:\n",
    "        wr = csv.DictWriter(csvFile, fieldnames=col_names)\n",
    "        wr.writeheader()\n",
    "        for ele in dic_list:\n",
    "            wr.writerow(ele)"
   ]
  },
  {
   "cell_type": "markdown",
   "id": "9a1f5bda-aee4-4218-8799-7c9e7c633e11",
   "metadata": {},
   "source": [
    "## freefood.org"
   ]
  },
  {
   "cell_type": "code",
   "execution_count": 90,
   "id": "7ab81709-e6c4-4967-8dc9-3f273b222460",
   "metadata": {},
   "outputs": [],
   "source": [
    "response = requests.get('https://www.freefood.org/')\n",
    "soup = BeautifulSoup(response.content,'html.parser')\n",
    "states = soup.find('div',{'class':'box'}).find_all('li')"
   ]
  },
  {
   "cell_type": "code",
   "execution_count": 91,
   "id": "787288a6-c7cc-46ce-93f2-bf4c4f5b70ba",
   "metadata": {},
   "outputs": [
    {
     "data": {
      "text/plain": [
       "[<li><a href=\"https://www.freefood.org/s/connecticut\">Connecticut</a> (40)</li>,\n",
       " <li><a href=\"https://www.freefood.org/s/rhode_island\">Rhode Island</a> (131)</li>,\n",
       " <li><a href=\"https://www.freefood.org/s/massachusetts\">Massachusetts</a> (188)</li>,\n",
       " <li><a href=\"https://www.freefood.org/s/vermont\">Vermont</a> (25)</li>,\n",
       " <li><a href=\"https://www.freefood.org/s/new_hampshire\">New Hampshire</a> (29)</li>]"
      ]
     },
     "execution_count": 91,
     "metadata": {},
     "output_type": "execute_result"
    }
   ],
   "source": [
    "states[:5]"
   ]
  },
  {
   "cell_type": "code",
   "execution_count": 92,
   "id": "32585708-5202-4145-937f-00a3bcc02d40",
   "metadata": {},
   "outputs": [],
   "source": [
    "urls = []\n",
    "for state in states:\n",
    "    state_url = state.find('a')['href']\n",
    "    state_name = state.find('a').text\n",
    "    response = requests.get(state_url)\n",
    "    html=response.text\n",
    "    urls.append(state_url)\n",
    "    soup = BeautifulSoup(html, \"html.parser\")"
   ]
  },
  {
   "cell_type": "code",
   "execution_count": 93,
   "id": "ca383172-1b3c-4567-8c37-f3d04123f692",
   "metadata": {},
   "outputs": [
    {
     "data": {
      "text/plain": [
       "['https://www.freefood.org/s/connecticut',\n",
       " 'https://www.freefood.org/s/rhode_island',\n",
       " 'https://www.freefood.org/s/massachusetts',\n",
       " 'https://www.freefood.org/s/vermont',\n",
       " 'https://www.freefood.org/s/new_hampshire']"
      ]
     },
     "execution_count": 93,
     "metadata": {},
     "output_type": "execute_result"
    }
   ],
   "source": [
    "urls[:5]"
   ]
  },
  {
   "cell_type": "code",
   "execution_count": 94,
   "id": "2208c455-9ba3-4417-914d-9eb9c8cf1f93",
   "metadata": {},
   "outputs": [],
   "source": [
    "allURL = []\n",
    "for START_URL in urls:\n",
    "    soup = generate_soup(START_URL)\n",
    "    cityURL = soup.find_all('div',{'class':'kode-text'})\n",
    "    allURL.append(cityURL)\n",
    "    "
   ]
  },
  {
   "cell_type": "code",
   "execution_count": 95,
   "id": "ee3b7681-c6bf-488f-b8c4-565d2c362d5d",
   "metadata": {},
   "outputs": [
    {
     "data": {
      "text/plain": [
       "[<div class=\"kode-text\">\n",
       " <a alt=\"Ansonia dcf offices\" href=\"https://www.freefood.org/c/ct-ansonia\" title=\"Ansonia DCF Offices\">Ansonia (1)</a>\n",
       " </div>,\n",
       " <div class=\"kode-text\">\n",
       " <a alt=\"Ashford dcf offices\" href=\"https://www.freefood.org/c/ct-ashford\" title=\"Ashford DCF Offices\">Ashford (1)</a>\n",
       " </div>,\n",
       " <div class=\"kode-text\">\n",
       " <a alt=\"Bloomfield dcf offices\" href=\"https://www.freefood.org/c/ct-bloomfield\" title=\"Bloomfield DCF Offices\">Bloomfield (1)</a>\n",
       " </div>,\n",
       " <div class=\"kode-text\">\n",
       " <a alt=\"Bridgeport dcf offices\" href=\"https://www.freefood.org/c/ct-bridgeport\" title=\"Bridgeport DCF Offices\">Bridgeport (4)</a>\n",
       " </div>,\n",
       " <div class=\"kode-text\">\n",
       " <a alt=\"Bristol dcf offices\" href=\"https://www.freefood.org/c/ct-bristol\" title=\"Bristol DCF Offices\">Bristol (1)</a>\n",
       " </div>]"
      ]
     },
     "execution_count": 95,
     "metadata": {},
     "output_type": "execute_result"
    }
   ],
   "source": [
    "allURL[0][:5]"
   ]
  },
  {
   "cell_type": "code",
   "execution_count": 96,
   "id": "324d205d-f7f8-4e7a-be04-d681e3e1cfd4",
   "metadata": {},
   "outputs": [],
   "source": [
    "cityURLS = []\n",
    "for cityClass in allURL:\n",
    "    for outter in cityClass: \n",
    "        city_url = outter.find('a')['href']\n",
    "        cityURLS.append(city_url)"
   ]
  },
  {
   "cell_type": "code",
   "execution_count": 97,
   "id": "c0da4533-6b0c-4ddd-8436-e0ae2c037529",
   "metadata": {},
   "outputs": [
    {
     "data": {
      "text/plain": [
       "['https://www.freefood.org/c/ct-ansonia',\n",
       " 'https://www.freefood.org/c/ct-ashford',\n",
       " 'https://www.freefood.org/c/ct-bloomfield',\n",
       " 'https://www.freefood.org/c/ct-bridgeport',\n",
       " 'https://www.freefood.org/c/ct-bristol']"
      ]
     },
     "execution_count": 97,
     "metadata": {},
     "output_type": "execute_result"
    }
   ],
   "source": [
    "cityURLS[:5]"
   ]
  },
  {
   "cell_type": "code",
   "execution_count": 98,
   "id": "f3c7d65c-c15c-4d6a-8937-cb12314ae485",
   "metadata": {},
   "outputs": [
    {
     "data": {
      "text/plain": [
       "[<div class=\"text-col\">\n",
       " <h3><a href=\"https://www.freefood.org/l/ct_ansonia_christ-episcopal-church\">Christ Episcopal Church</a></h3>\n",
       " <p>\n",
       "                                     56 Cliff Street <br/>\n",
       "                                     Ansonia, CT - 06401<br/>\n",
       "                                     Phone: (203) 734-2715<br/>\n",
       " <br/>\n",
       " </p>\n",
       " <a class=\"btn-style-1\" href=\"https://www.freefood.org/l/ct_ansonia_christ-episcopal-church\">Details Page</a>\n",
       " </div>,\n",
       " <div class=\"text-col\">\n",
       " <h3><a href=\"https://www.freefood.org/l/ct_shelton_area-congregations-together\">Area Congregations Together - Spooner House</a></h3>\n",
       " <p>\n",
       "                                     30 Todd Road <br/>\n",
       "                                     Shelton, CT - 06484<br/>\n",
       "                                     Phone: (203) 225-0453<br/>\n",
       "                                     Fax: (203) 225-0459<br/>\n",
       " </p>\n",
       " <a class=\"btn-style-1\" href=\"https://www.freefood.org/l/ct_shelton_area-congregations-together\">Details Page</a>\n",
       " </div>]"
      ]
     },
     "execution_count": 98,
     "metadata": {},
     "output_type": "execute_result"
    }
   ],
   "source": [
    "url = 'https://www.freefood.org/c/ct-ansonia'\n",
    "cont = []\n",
    "soup = generate_soup(url)\n",
    "pantry = soup.find_all('div',{'class':'text-col'})\n",
    "pantry[:2]"
   ]
  },
  {
   "cell_type": "code",
   "execution_count": 99,
   "id": "ae869e73-486f-4faf-9cf5-4de1c74b735f",
   "metadata": {},
   "outputs": [],
   "source": [
    "content = []\n",
    "for url in cityURLS:\n",
    "    soup = generate_soup(url)\n",
    "    pantry = soup.find_all('div',{'class':'text-col'})\n",
    "    content.append(pantry)"
   ]
  },
  {
   "cell_type": "code",
   "execution_count": 100,
   "id": "e72c976e-9fcd-4764-bc62-c7bd82004ecd",
   "metadata": {},
   "outputs": [
    {
     "data": {
      "text/plain": [
       "[<div class=\"text-col\">\n",
       " <h3><a href=\"https://www.freefood.org/l/ct_ansonia_christ-episcopal-church\">Christ Episcopal Church</a></h3>\n",
       " <p>\n",
       "                                     56 Cliff Street <br/>\n",
       "                                     Ansonia, CT - 06401<br/>\n",
       "                                     Phone: (203) 734-2715<br/>\n",
       " <br/>\n",
       " </p>\n",
       " <a class=\"btn-style-1\" href=\"https://www.freefood.org/l/ct_ansonia_christ-episcopal-church\">Details Page</a>\n",
       " </div>,\n",
       " <div class=\"text-col\">\n",
       " <h3><a href=\"https://www.freefood.org/l/ct_shelton_area-congregations-together\">Area Congregations Together - Spooner House</a></h3>\n",
       " <p>\n",
       "                                     30 Todd Road <br/>\n",
       "                                     Shelton, CT - 06484<br/>\n",
       "                                     Phone: (203) 225-0453<br/>\n",
       "                                     Fax: (203) 225-0459<br/>\n",
       " </p>\n",
       " <a class=\"btn-style-1\" href=\"https://www.freefood.org/l/ct_shelton_area-congregations-together\">Details Page</a>\n",
       " </div>]"
      ]
     },
     "execution_count": 100,
     "metadata": {},
     "output_type": "execute_result"
    }
   ],
   "source": [
    "content[0][:2]"
   ]
  },
  {
   "cell_type": "code",
   "execution_count": 101,
   "id": "4d74271e-fd46-4dbc-a623-54f127095c5f",
   "metadata": {},
   "outputs": [],
   "source": [
    "dict_list = []\n",
    "for outter in content:\n",
    "    for inner in outter: \n",
    "        name = inner.find('a').text\n",
    "        address = inner.find('p').text\n",
    "        for s in STR_TO_REPLACE:\n",
    "            address = address.replace(s, '')\n",
    "        addressNew = ' '.join(address.split())\n",
    "        index1 = addressNew.index(\",\")\n",
    "        streetLine = addressNew[:index1]\n",
    "        words = streetLine.split(\" \")\n",
    "        street = words[: len(words)-1]\n",
    "        street1 = \" \".join(street)\n",
    "        city = words[len(words)-1]\n",
    "        state = addressNew[index1 + 2: index1 + 4]\n",
    "        zipcode = addressNew[index1 + 7 :index1 + 12]\n",
    "        dict1 = {\"name\": name, \"street\": street1,\"city\": city,\"state\": state, \"zipcode\": zipcode}\n",
    "        dict_list.append(dict1)"
   ]
  },
  {
   "cell_type": "code",
   "execution_count": 102,
   "id": "8f53894c-807e-493b-88b5-9d2a02ff7fdd",
   "metadata": {},
   "outputs": [
    {
     "data": {
      "text/plain": [
       "[{'name': 'Christ Episcopal Church',\n",
       "  'street': '56 Cliff Street',\n",
       "  'city': 'Ansonia',\n",
       "  'state': 'CT',\n",
       "  'zipcode': '06401'},\n",
       " {'name': 'Area Congregations Together - Spooner House',\n",
       "  'street': '30 Todd Road',\n",
       "  'city': 'Shelton',\n",
       "  'state': 'CT',\n",
       "  'zipcode': '06484'},\n",
       " {'name': 'New Haven Diaper Bank',\n",
       "  'street': '1440 Whalley Ave New',\n",
       "  'city': 'Haven',\n",
       "  'state': 'CT',\n",
       "  'zipcode': '06515'}]"
      ]
     },
     "execution_count": 102,
     "metadata": {},
     "output_type": "execute_result"
    }
   ],
   "source": [
    "dict_list[:3]"
   ]
  },
  {
   "cell_type": "code",
   "execution_count": 103,
   "id": "9d63d0ee-d689-44a9-a56b-9339ea55e7ff",
   "metadata": {},
   "outputs": [
    {
     "data": {
      "text/plain": [
       "2237"
      ]
     },
     "execution_count": 103,
     "metadata": {},
     "output_type": "execute_result"
    }
   ],
   "source": [
    "len(dict_list)"
   ]
  },
  {
   "cell_type": "code",
   "execution_count": 104,
   "id": "0a58f40a-0c1b-4072-9af3-8fcc62e07b2f",
   "metadata": {},
   "outputs": [],
   "source": [
    "for outter in dict_list:\n",
    "    if outter[\"name\"] == \"Add a Listing\":\n",
    "        dict_list.remove(outter)"
   ]
  },
  {
   "cell_type": "code",
   "execution_count": 105,
   "id": "cffdd6d9-f0fd-4abb-92e9-7e84815f8d4f",
   "metadata": {},
   "outputs": [],
   "source": [
    "for outter in dict_list:\n",
    "    if outter[\"name\"] == \"Good Neighbors\":\n",
    "        dict_list.remove(outter)"
   ]
  },
  {
   "cell_type": "code",
   "execution_count": 106,
   "id": "3f6105b7-9304-44e7-9419-6b474543f8ca",
   "metadata": {},
   "outputs": [],
   "source": [
    "col_names = [\"name\", \"street\", \"city\", \"state\", \"zipcode\"]"
   ]
  },
  {
   "cell_type": "code",
   "execution_count": 107,
   "id": "8439209c-7cb9-4c7a-acba-ae58c38dc23b",
   "metadata": {},
   "outputs": [
    {
     "data": {
      "text/plain": [
       "[{'name': 'Christ Episcopal Church',\n",
       "  'street': '56 Cliff Street',\n",
       "  'city': 'Ansonia',\n",
       "  'state': 'CT',\n",
       "  'zipcode': '06401'},\n",
       " {'name': 'Area Congregations Together - Spooner House',\n",
       "  'street': '30 Todd Road',\n",
       "  'city': 'Shelton',\n",
       "  'state': 'CT',\n",
       "  'zipcode': '06484'},\n",
       " {'name': 'New Haven Diaper Bank',\n",
       "  'street': '1440 Whalley Ave New',\n",
       "  'city': 'Haven',\n",
       "  'state': 'CT',\n",
       "  'zipcode': '06515'},\n",
       " {'name': 'Bethel Ame Church Food Pantry',\n",
       "  'street': '255 Goffe Street New',\n",
       "  'city': 'Haven',\n",
       "  'state': 'CT',\n",
       "  'zipcode': '06511'},\n",
       " {'name': 'Believe In Me Empowerment Corporation',\n",
       "  'street': '423 Dixwell Avenue New',\n",
       "  'city': 'Haven',\n",
       "  'state': 'CT',\n",
       "  'zipcode': '06511'},\n",
       " {'name': 'Connecticut Food Bank, Inc.',\n",
       "  'street': 'P.O. Box 8686 New',\n",
       "  'city': 'Haven',\n",
       "  'state': 'CT',\n",
       "  'zipcode': '06531'},\n",
       " {'name': 'Centro San Jose Family Center',\n",
       "  'street': '290 Grand Avenue New',\n",
       "  'city': 'Haven',\n",
       "  'state': 'CT',\n",
       "  'zipcode': '06513'},\n",
       " {'name': 'Walk of Faith Church Pantry',\n",
       "  'street': '104 Fairmont Avenue New',\n",
       "  'city': 'Haven',\n",
       "  'state': 'CT',\n",
       "  'zipcode': '06513'},\n",
       " {'name': 'Ecumenical Food Bank Inc',\n",
       "  'street': 'P.O. Box 796',\n",
       "  'city': 'Naugatuck',\n",
       "  'state': 'CT',\n",
       "  'zipcode': '06770'},\n",
       " {'name': 'Naugatuck Valley Soup Kitchen',\n",
       "  'street': '758 Rubber Avenue',\n",
       "  'city': 'Naugatuck',\n",
       "  'state': 'CT',\n",
       "  'zipcode': '06770'},\n",
       " {'name': 'Ashford Food Bank Inc',\n",
       "  'street': '25 Pompey Hollow Rd',\n",
       "  'city': 'Ashford',\n",
       "  'state': 'CT',\n",
       "  'zipcode': '06278'},\n",
       " {'name': 'Chaplin Congregational Church',\n",
       "  'street': '43 Chaplin Street',\n",
       "  'city': 'Chaplin',\n",
       "  'state': 'CT',\n",
       "  'zipcode': '06235'},\n",
       " {'name': 'Southbridge Food Share',\n",
       "  'street': '79 Elm Street',\n",
       "  'city': 'Southbridge',\n",
       "  'state': 'MA',\n",
       "  'zipcode': '01550'},\n",
       " {'name': 'South Central WIC Program',\n",
       "  'street': '29 Pine St.',\n",
       "  'city': 'Southbridge',\n",
       "  'state': 'MA',\n",
       "  'zipcode': '01550'},\n",
       " {'name': 'Webster-Dudley Food Share ',\n",
       "  'street': '4 Church Street',\n",
       "  'city': 'Webster',\n",
       "  'state': 'MA',\n",
       "  'zipcode': '01570'},\n",
       " {'name': 'Community Survival Center',\n",
       "  'street': '240 Main Street Indian',\n",
       "  'city': 'Orchard',\n",
       "  'state': 'MA',\n",
       "  'zipcode': '01151'},\n",
       " {'name': 'Catholic Charities - Diocese of Norwich',\n",
       "  'street': '331 Main Street',\n",
       "  'city': 'Norwich',\n",
       "  'state': 'CT',\n",
       "  'zipcode': '06360'},\n",
       " {'name': \"St Joseph's Food Pantry\",\n",
       "  'street': '296 N. Main Street North',\n",
       "  'city': 'Brookfield',\n",
       "  'state': 'MA',\n",
       "  'zipcode': '01535'},\n",
       " {'name': 'Auburn Youth & Family Services',\n",
       "  'street': '21 Pheasant Ct',\n",
       "  'city': 'Auburn',\n",
       "  'state': 'MA',\n",
       "  'zipcode': '01501'},\n",
       " {'name': 'Helping Hands Cupboard Food Pantry',\n",
       "  'street': '18 Park Street',\n",
       "  'city': 'Belchertown',\n",
       "  'state': 'MA',\n",
       "  'zipcode': '01007'}]"
      ]
     },
     "execution_count": 107,
     "metadata": {},
     "output_type": "execute_result"
    }
   ],
   "source": [
    "dict_list[:20]"
   ]
  },
  {
   "cell_type": "code",
   "execution_count": 108,
   "id": "98389b16-41db-4ccd-b61a-24262bce9352",
   "metadata": {},
   "outputs": [],
   "source": [
    "with open(\"FreeFood.csv\", 'w') as csvFile:\n",
    "        wr = csv.DictWriter(csvFile, fieldnames=col_names)\n",
    "        wr.writeheader()\n",
    "        for ele in dict_list:\n",
    "            wr.writerow(ele)"
   ]
  },
  {
   "cell_type": "markdown",
   "id": "65696b7f-dce5-48d6-9d92-1c1f53aefd49",
   "metadata": {},
   "source": [
    "## HOMELESS SHELTERS DIRECTORY"
   ]
  },
  {
   "cell_type": "code",
   "execution_count": 7,
   "id": "1fce897e-63db-44ae-8824-4cd2ef8e7a4e",
   "metadata": {},
   "outputs": [],
   "source": [
    "response = requests.get('https://www.homelessshelterdirectory.org/foodbanks/index.html')\n",
    "soup = BeautifulSoup(response.content,'html.parser')\n",
    "table = soup.find('table')\n",
    "rows = table.findAll('tr')"
   ]
  },
  {
   "cell_type": "code",
   "execution_count": 8,
   "id": "8ebff26a-d5da-42b2-a8e8-d113fdc027d9",
   "metadata": {},
   "outputs": [],
   "source": [
    "def findURL(rows):\n",
    "    rowList = []\n",
    "    for row in rows:\n",
    "        state_url = row.find_all('td')\n",
    "        if len(state_url)>0:\n",
    "            rowList.append(state_url)\n",
    "    return rowList"
   ]
  },
  {
   "cell_type": "code",
   "execution_count": 9,
   "id": "867c879f-abb5-43b1-9df7-babe093da8e1",
   "metadata": {},
   "outputs": [
    {
     "data": {
      "text/plain": [
       "51"
      ]
     },
     "execution_count": 9,
     "metadata": {},
     "output_type": "execute_result"
    }
   ],
   "source": [
    "stateUrl = findURL(rows)\n",
    "len(stateUrl)"
   ]
  },
  {
   "cell_type": "code",
   "execution_count": 10,
   "id": "52ed79c6-270c-475b-aa4e-01b09a0b7a99",
   "metadata": {},
   "outputs": [],
   "source": [
    "def innerUrl(urlList):\n",
    "    urlList = []\n",
    "    for item in stateUrl:\n",
    "        url = item[0].find('a')['href']\n",
    "        urlList.append(url)\n",
    "    return urlList"
   ]
  },
  {
   "cell_type": "code",
   "execution_count": 11,
   "id": "3bbe7fe1-a455-4fd5-b79a-5aa2749458ac",
   "metadata": {},
   "outputs": [
    {
     "data": {
      "text/plain": [
       "['https://www.homelessshelterdirectory.org/foodbanks/state/alaska.html',\n",
       " 'https://www.homelessshelterdirectory.org/foodbanks/state/alabama.html',\n",
       " 'https://www.homelessshelterdirectory.org/foodbanks/state/arkansas.html',\n",
       " 'https://www.homelessshelterdirectory.org/foodbanks/state/arizona.html',\n",
       " 'https://www.homelessshelterdirectory.org/foodbanks/state/california.html']"
      ]
     },
     "execution_count": 11,
     "metadata": {},
     "output_type": "execute_result"
    }
   ],
   "source": [
    "urlList = innerUrl(stateUrl)\n",
    "urlList[:5]"
   ]
  },
  {
   "cell_type": "code",
   "execution_count": 12,
   "id": "5f1bfa17-38be-4baa-bb3e-f6dbb7746f13",
   "metadata": {},
   "outputs": [],
   "source": [
    "urls = []\n",
    "response = requests.get('https://www.homelessshelterdirectory.org/foodbanks/state/alaska.html')\n",
    "soup = BeautifulSoup(response.content,'html.parser')\n",
    "table = soup.find('table')\n",
    "rows = table.findAll('tr')\n",
    "cityURL = findURL(rows)\n",
    "for item in cityURL:\n",
    "    url = item[0].find('a')['href']\n",
    "    urls.append(url)\n",
    "    \n"
   ]
  },
  {
   "cell_type": "code",
   "execution_count": 13,
   "id": "c2d1094b-7344-421d-90de-090237877aed",
   "metadata": {},
   "outputs": [],
   "source": [
    "urls = []\n",
    "for element in urlList:\n",
    "    response = requests.get(element)\n",
    "    soup = BeautifulSoup(response.content,'html.parser')\n",
    "    table = soup.find('table')\n",
    "    rows = table.findAll('tr')\n",
    "    cityURL = findURL(rows)\n",
    "    for item in cityURL:\n",
    "        url = item[0].find('a')['href']\n",
    "        urls.append(url)"
   ]
  },
  {
   "cell_type": "code",
   "execution_count": 14,
   "id": "e9a6e46c-3098-4fdd-9f04-f7c453b74e82",
   "metadata": {},
   "outputs": [
    {
     "data": {
      "text/plain": [
       "['https://www.homelessshelterdirectory.org/foodbanks/city/ak-anchorage.html',\n",
       " 'https://www.homelessshelterdirectory.org/foodbanks/city/ak-aniak.html',\n",
       " 'https://www.homelessshelterdirectory.org/foodbanks/city/ak-big_lake.html']"
      ]
     },
     "execution_count": 14,
     "metadata": {},
     "output_type": "execute_result"
    }
   ],
   "source": [
    "urls[:3]"
   ]
  },
  {
   "cell_type": "code",
   "execution_count": 15,
   "id": "9d627526-50b6-4c22-8a8a-ba94b8c7e81a",
   "metadata": {},
   "outputs": [
    {
     "data": {
      "text/plain": [
       "4588"
      ]
     },
     "execution_count": 15,
     "metadata": {},
     "output_type": "execute_result"
    }
   ],
   "source": [
    "len(urls)"
   ]
  },
  {
   "cell_type": "code",
   "execution_count": null,
   "id": "2a8bf390-b2b1-4ab6-8c31-d34c9f9bba3a",
   "metadata": {},
   "outputs": [],
   "source": [
    "bankUrls = []\n",
    "for element in urls:\n",
    "    response = requests.get(element)\n",
    "    soup = BeautifulSoup(response.content,'html.parser')\n",
    "    banks = soup.find_all('div',{'class':'thumb_hover'})\n",
    "    for item in banks:\n",
    "        bankUrl = item.find('a')['href']\n",
    "        bankUrls.append(bankUrl)"
   ]
  },
  {
   "cell_type": "code",
   "execution_count": 119,
   "id": "df7088d4-ece9-410a-adac-25c97c099e12",
   "metadata": {},
   "outputs": [
    {
     "data": {
      "text/plain": [
       "['https://www.homelessshelterdirectory.org/foodbank/ak_food-bank-of-alaska',\n",
       " 'https://www.homelessshelterdirectory.org/foodbank/ak_downtown-soup-kitchen',\n",
       " 'https://www.homelessshelterdirectory.org/foodbank/ak_saint-francis-house-food-pantry',\n",
       " 'https://www.homelessshelterdirectory.org/foodbank/ak_emergency-food-bank-st-benedicts-outreach',\n",
       " 'https://www.homelessshelterdirectory.org/foodbank/ak_first-congregational-church']"
      ]
     },
     "execution_count": 119,
     "metadata": {},
     "output_type": "execute_result"
    }
   ],
   "source": [
    "bankUrls[:5]"
   ]
  },
  {
   "cell_type": "code",
   "execution_count": 120,
   "id": "ac031b55-cf82-4a0e-a54d-be6dbd8ea5f8",
   "metadata": {},
   "outputs": [
    {
     "data": {
      "text/plain": [
       "19499"
      ]
     },
     "execution_count": 120,
     "metadata": {},
     "output_type": "execute_result"
    }
   ],
   "source": [
    "len(bankUrls)"
   ]
  },
  {
   "cell_type": "code",
   "execution_count": 121,
   "id": "3b634f58-0811-4f8a-8794-d5dcc4779e16",
   "metadata": {},
   "outputs": [
    {
     "data": {
      "text/plain": [
       "'Address                                    2121 Spar Ave                                     Anchorage, AK - 99501'"
      ]
     },
     "execution_count": 121,
     "metadata": {},
     "output_type": "execute_result"
    }
   ],
   "source": [
    "response = requests.get('https://www.homelessshelterdirectory.org/foodbank/ak_food-bank-of-alaska')\n",
    "soup = BeautifulSoup(response.content,'html.parser')\n",
    "title = soup.find('h1', {'entry_content'})\n",
    "address = soup.find('div',{'col col_4_of_12'})\n",
    "contents = address.find('p').text\n",
    "for s in STR_TO_REPLACE:\n",
    "     contents= contents.replace(s, '')\n",
    "title\n",
    "contents"
   ]
  },
  {
   "cell_type": "code",
   "execution_count": 122,
   "id": "300a4472-95ed-4956-9057-eafe4f189007",
   "metadata": {},
   "outputs": [],
   "source": [
    "import re\n",
    "pattern = re.compile(r'(\\s){2,}')"
   ]
  },
  {
   "cell_type": "code",
   "execution_count": 123,
   "id": "db566e7d-b36d-4ed1-a93c-e22ca6fc956d",
   "metadata": {},
   "outputs": [],
   "source": [
    "contents = re.sub(pattern, ', ', contents)"
   ]
  },
  {
   "cell_type": "code",
   "execution_count": 124,
   "id": "8d82f21a-1f93-465b-94ce-37c9f573fe31",
   "metadata": {},
   "outputs": [
    {
     "data": {
      "text/plain": [
       "'Address, 2121 Spar Ave, Anchorage, AK - 99501'"
      ]
     },
     "execution_count": 124,
     "metadata": {},
     "output_type": "execute_result"
    }
   ],
   "source": [
    "contents"
   ]
  },
  {
   "cell_type": "code",
   "execution_count": null,
   "id": "ba569b1f-05a7-45cf-a188-d33ff2aaa488",
   "metadata": {},
   "outputs": [],
   "source": [
    "addressList = []\n",
    "for url in bankUrls:\n",
    "    response = requests.get(url)\n",
    "    soup = BeautifulSoup(response.content,'html.parser')\n",
    "    address = soup.find('div',{'col col_4_of_12'})\n",
    "    contents = address.find('p').text\n",
    "    for s in STR_TO_REPLACE:\n",
    "         contents= contents.replace(s, '')\n",
    "    contents = re.sub(pattern, ', ', contents)\n",
    "    addressList.append(contents)"
   ]
  },
  {
   "cell_type": "code",
   "execution_count": null,
   "id": "3e448cd1-769c-40c6-8b3b-d240ffdc5ee9",
   "metadata": {},
   "outputs": [],
   "source": []
  },
  {
   "cell_type": "code",
   "execution_count": null,
   "id": "9da19f56-0a71-4f19-8e33-00ffe2df037f",
   "metadata": {},
   "outputs": [],
   "source": []
  }
 ],
 "metadata": {
  "kernelspec": {
   "display_name": "MyEnv",
   "language": "python",
   "name": "myenv"
  },
  "language_info": {
   "codemirror_mode": {
    "name": "ipython",
    "version": 3
   },
   "file_extension": ".py",
   "mimetype": "text/x-python",
   "name": "python",
   "nbconvert_exporter": "python",
   "pygments_lexer": "ipython3",
   "version": "3.7.11"
  }
 },
 "nbformat": 4,
 "nbformat_minor": 5
}
